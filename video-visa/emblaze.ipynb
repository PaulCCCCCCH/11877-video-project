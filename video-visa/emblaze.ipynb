{
 "cells": [
  {
   "cell_type": "code",
   "execution_count": 1,
   "id": "3d4b75ea-71d5-4c59-b5e4-3420d0d62eed",
   "metadata": {},
   "outputs": [],
   "source": [
    "import emblaze\n",
    "from emblaze.utils import Field, ProjectionTechnique\n",
    "import numpy as np\n",
    "import pandas as pd\n",
    "\n",
    "from sklearn.manifold import TSNE\n",
    "import numpy as np\n",
    "from matplotlib import pyplot as plt\n",
    "from data.visamm_dataset import make_mm_dataset\n",
    "from data.image_folder import make_dataset\n",
    "import os\n",
    "from PIL import Image\n",
    "from tqdm import tqdm"
   ]
  },
  {
   "cell_type": "markdown",
   "id": "2184d070-4cbf-4b79-b6ee-532bbc2524d7",
   "metadata": {},
   "source": [
    "# Load Embeddings"
   ]
  },
  {
   "cell_type": "code",
   "execution_count": 2,
   "id": "10ce8494-973e-47ed-a4fe-92f26da31bb3",
   "metadata": {},
   "outputs": [
    {
     "name": "stderr",
     "output_type": "stream",
     "text": [
      "44112it [00:00, 479326.68it/s]\n"
     ]
    },
    {
     "name": "stdout",
     "output_type": "stream",
     "text": [
      "classes loaded\n"
     ]
    },
    {
     "name": "stderr",
     "output_type": "stream",
     "text": [
      "44112it [00:30, 1423.91it/s]"
     ]
    },
    {
     "name": "stdout",
     "output_type": "stream",
     "text": [
      "embeddings loaded\n"
     ]
    },
    {
     "name": "stderr",
     "output_type": "stream",
     "text": [
      "\n"
     ]
    }
   ],
   "source": [
    "\n",
    "np.random.seed(42)\n",
    "\n",
    "IS_MM = False\n",
    "\n",
    "\n",
    "# dataroot = '../pre-processing/subset_classes_single'\n",
    "dataroot = '../pre-processing/subset_classes'\n",
    "# dataroot = '../pre-processing/mmdata'\n",
    "\n",
    "# resultsroot= './saved_results/five-classes/bear/latent_code/bear_256x512/test_latest/images'\n",
    "# resultsroot= './results/debug/latent_code/debug/test_latest/images'\n",
    "resultsroot= './results/visamm-gpt-five/latent_code/visamm-gpt-five/test_latest/images'\n",
    "\n",
    "outpath = './tsne-five.png'\n",
    "\n",
    "# resultsroot= './saved_results/single-class/bear/latent_code/bear_256x512/test_latest/images'\n",
    "# outpath = './tsne-single.png'\n",
    "\n",
    "SUBSETS = {\n",
    "    1: { \n",
    "        'bicycling': 1,    \n",
    "        'drawing': 2,\n",
    "        'driving': 3,\n",
    "        'running': 4,\n",
    "        'surfing': 5\n",
    "    }\n",
    "}\n",
    "\n",
    "if IS_MM:\n",
    "    paths = sorted(make_mm_dataset(dataroot, 1), key=lambda d: d[\"im_path\"])\n",
    "    paths = [p[\"im_path\"] for p in paths]\n",
    "else:\n",
    "    paths = sorted(make_dataset(dataroot))\n",
    "\n",
    "# embeddings_to_plot = 500\n",
    "\n",
    "name2idx = {\n",
    "    'bicycling': 1,    \n",
    "    'drawing': 2,\n",
    "    'driving': 3,\n",
    "    'running': 4,\n",
    "    'surfing': 5\n",
    "}\n",
    "\n",
    "class_indices = []\n",
    "class_names = []\n",
    "image_embeddings = []\n",
    "\n",
    "\n",
    "for idx, path in tqdm(enumerate(paths)):\n",
    "    classname = path.split('/')[-3]\n",
    "    class_indices.append(name2idx[classname])\n",
    "    class_names.append(classname)\n",
    "print(\"classes loaded\")\n",
    "\n",
    "result_fnames = os.listdir(resultsroot)\n",
    "result_fnames.sort(key=lambda p: int(p.split(\"_\")[0]))\n",
    "for idx, fname in tqdm(enumerate(result_fnames)):\n",
    "    fpath = os.path.join(resultsroot, fname)\n",
    "    embedding = np.load(fpath)\n",
    "    image_embeddings.append(embedding.flatten())\n",
    "print(\"embeddings loaded\")"
   ]
  },
  {
   "cell_type": "markdown",
   "id": "7ea89e74-903b-48e9-8fd6-0107b9157e87",
   "metadata": {},
   "source": [
    "# Load Images"
   ]
  },
  {
   "cell_type": "code",
   "execution_count": 3,
   "id": "4d0f0c77-75b7-4670-8984-2228a73b4867",
   "metadata": {},
   "outputs": [
    {
     "name": "stderr",
     "output_type": "stream",
     "text": [
      "300it [00:01, 268.21it/s]"
     ]
    },
    {
     "name": "stdout",
     "output_type": "stream",
     "text": [
      "images loaded\n"
     ]
    },
    {
     "name": "stderr",
     "output_type": "stream",
     "text": [
      "\n"
     ]
    }
   ],
   "source": [
    "# 0-300, 5000-5500\n",
    "START = 0\n",
    "END = 300\n",
    "\n",
    "# START = 0\n",
    "# END = 300\n",
    "\n",
    "images = []\n",
    "for idx, path in tqdm(enumerate(paths[START:END])):\n",
    "    with Image.open(path) as img:\n",
    "        images.append(np.asarray(img))\n",
    "    \n",
    "print(\"images loaded\")"
   ]
  },
  {
   "cell_type": "markdown",
   "id": "e44a11f9-f976-4769-8edf-5759feeaf653",
   "metadata": {},
   "source": [
    "# Get Visualization"
   ]
  },
  {
   "cell_type": "code",
   "execution_count": 4,
   "id": "3c773d29-cc6e-417c-a040-4068c820c8e8",
   "metadata": {},
   "outputs": [
    {
     "name": "stderr",
     "output_type": "stream",
     "text": [
      "<ipython-input-4-c781834aceaf>:1: VisibleDeprecationWarning: Creating an ndarray from ragged nested sequences (which is a list-or-tuple of lists-or-tuples-or ndarrays with different lengths or shapes) is deprecated. If you meant to do this, you must specify 'dtype=object' when creating the ndarray.\n",
      "  images_arr = np.array(images)\n"
     ]
    },
    {
     "name": "stdout",
     "output_type": "stream",
     "text": [
      "Getting projections\n",
      "Computing neighbors\n",
      "Producing visualization\n"
     ]
    },
    {
     "data": {
      "application/vnd.jupyter.widget-view+json": {
       "model_id": "e8e4199ae28d4dceadc82683adc513fd",
       "version_major": 2,
       "version_minor": 0
      },
      "text/plain": [
       "Viewer(colorScheme='tableau', data={'data': [{'_format': 'compressed', '_idtype': 'u2', '_length': 300, 'ids':…"
      ]
     },
     "metadata": {},
     "output_type": "display_data"
    }
   ],
   "source": [
    "images_arr = np.array(images)\n",
    "# embeddings_arr = np.array([e.flatten() for e in image_embeddings])\n",
    "embeddings_arr = np.array([e.flatten() for e in image_embeddings[START:END]])                           \n",
    "classes_arr = np.array(class_indices[START:END])\n",
    "\n",
    "# Computing neighbors\n",
    "\n",
    "emb = emblaze.Embedding({Field.POSITION: embeddings_arr, Field.COLOR: classes_arr})\n",
    "# print(\"Computing neighbors\"）\n",
    "# emb.compute_neighbors(metric='cosine')\n",
    "      \n",
    "print(\"Getting projections\")\n",
    "variants = emblaze.EmbeddingSet([\n",
    "    emb.project(method=ProjectionTechnique.UMAP) for _ in range(10)\n",
    "])\n",
    "\n",
    "print(\"Computing neighbors\")\n",
    "variants.compute_neighbors(metric='euclidean')\n",
    "\n",
    "print(\"Producing visualization\")\n",
    "thumbnails = emblaze.ImageThumbnails(images)\n",
    "w = emblaze.Viewer(embeddings=variants, thumbnails=thumbnails)\n",
    "w"
   ]
  },
  {
   "cell_type": "code",
   "execution_count": null,
   "id": "4d51840b-d8e4-419c-b812-1b2607eb10d5",
   "metadata": {},
   "outputs": [],
   "source": [
    "variants"
   ]
  },
  {
   "cell_type": "code",
   "execution_count": null,
   "id": "7bf2ff07-5579-48ae-a905-d2e12b4609c7",
   "metadata": {},
   "outputs": [],
   "source": [
    "w"
   ]
  },
  {
   "cell_type": "code",
   "execution_count": null,
   "id": "494c69ea-76e7-4be7-b6de-05ca06c50dfa",
   "metadata": {},
   "outputs": [],
   "source": [
    "\n",
    "\n",
    "# data = list(zip(class_names, image_embeddings, class_indices))\n",
    "# np.random.shuffle(data)\n",
    "# data = data[:embeddings_to_plot]\n",
    "# class_names = [p[0] for p in data]\n",
    "# image_embeddings = [p[1] for p in data]\n",
    "# class_indices = [p[2] for p in data]\n",
    "\n",
    "\n",
    "print(\"doing tsne...\")\n",
    "tsne_embedded = TSNE(n_components=2, n_jobs=32,\n",
    "                     learning_rate=\"auto\", init=\"pca\").fit_transform(np.array([e.flatten() for e in image_embeddings]))\n",
    "print(\"done\")\n",
    "\n",
    "fig = plt.figure(1, (17., 15.))\n",
    "# plt.scatter(tsne_embedded[:, 0], tsne_embedded[:, 1], alpha=1.0, s=2,\n",
    "#             c=[v for v in class_indices], cmap=\"plasma\")\n",
    "scatter = plt.scatter(tsne_embedded[:, 0], tsne_embedded[:, 1], alpha=1.0, s=2,\n",
    "            c=[v for v in class_indices], cmap=\"plasma\", label=list(name2idx.keys()))\n",
    "plt.legend(loc='upper right', handles=scatter.legend_elements()[0], labels=name2idx.keys())\n",
    "# # cb = plt.colorbar()\n",
    "# cb.set_label('Category')\n",
    "# plt.savefig(outpath)\n",
    "plt.show()"
   ]
  },
  {
   "cell_type": "code",
   "execution_count": null,
   "id": "3ab7f02e-629c-4555-b84d-aafd40c1fe3c",
   "metadata": {},
   "outputs": [],
   "source": [
    "import clip"
   ]
  }
 ],
 "metadata": {
  "kernelspec": {
   "display_name": "Python 3",
   "language": "python",
   "name": "python3"
  },
  "language_info": {
   "codemirror_mode": {
    "name": "ipython",
    "version": 3
   },
   "file_extension": ".py",
   "mimetype": "text/x-python",
   "name": "python",
   "nbconvert_exporter": "python",
   "pygments_lexer": "ipython3",
   "version": "3.8.12"
  }
 },
 "nbformat": 4,
 "nbformat_minor": 5
}
